{
 "cells": [
  {
   "cell_type": "code",
   "execution_count": 149,
   "id": "9b0ce77c",
   "metadata": {},
   "outputs": [],
   "source": [
    "import pandas as pd\n",
    "import numpy as np\n",
    "import seaborn as sns\n",
    "from scipy.stats import levene\n",
    "from scipy.stats import ttest_ind\n",
    "from scipy.stats import chisquare\n",
    "from scipy.stats import chi2_contingency"
   ]
  },
  {
   "cell_type": "code",
   "execution_count": 4,
   "id": "e19de62d",
   "metadata": {},
   "outputs": [],
   "source": [
    "sns.set(rc={'figure.figsize':(11.7,8.27)})"
   ]
  },
  {
   "cell_type": "code",
   "execution_count": 5,
   "id": "1a5521a9",
   "metadata": {},
   "outputs": [],
   "source": [
    "user = pd.read_csv('user.csv')\n",
    "user_ab_group = pd.read_csv('user_ab_group.csv')\n",
    "good = pd.read_csv('good.csv')\n",
    "user_purchase = pd.read_csv('user_purchase.csv')\n",
    "purchase_good = pd.read_csv('purchase_good.csv')"
   ]
  },
  {
   "cell_type": "code",
   "execution_count": 98,
   "id": "f6f5efe4",
   "metadata": {},
   "outputs": [
    {
     "data": {
      "text/html": [
       "<div>\n",
       "<style scoped>\n",
       "    .dataframe tbody tr th:only-of-type {\n",
       "        vertical-align: middle;\n",
       "    }\n",
       "\n",
       "    .dataframe tbody tr th {\n",
       "        vertical-align: top;\n",
       "    }\n",
       "\n",
       "    .dataframe thead th {\n",
       "        text-align: right;\n",
       "    }\n",
       "</style>\n",
       "<table border=\"1\" class=\"dataframe\">\n",
       "  <thead>\n",
       "    <tr style=\"text-align: right;\">\n",
       "      <th></th>\n",
       "      <th>user_id</th>\n",
       "      <th>group</th>\n",
       "    </tr>\n",
       "  </thead>\n",
       "  <tbody>\n",
       "    <tr>\n",
       "      <th>0</th>\n",
       "      <td>5034</td>\n",
       "      <td>treatment</td>\n",
       "    </tr>\n",
       "    <tr>\n",
       "      <th>1</th>\n",
       "      <td>4725</td>\n",
       "      <td>treatment</td>\n",
       "    </tr>\n",
       "    <tr>\n",
       "      <th>2</th>\n",
       "      <td>911</td>\n",
       "      <td>treatment</td>\n",
       "    </tr>\n",
       "    <tr>\n",
       "      <th>3</th>\n",
       "      <td>13267</td>\n",
       "      <td>control</td>\n",
       "    </tr>\n",
       "    <tr>\n",
       "      <th>4</th>\n",
       "      <td>5636</td>\n",
       "      <td>control</td>\n",
       "    </tr>\n",
       "    <tr>\n",
       "      <th>...</th>\n",
       "      <td>...</td>\n",
       "      <td>...</td>\n",
       "    </tr>\n",
       "    <tr>\n",
       "      <th>11910</th>\n",
       "      <td>7599</td>\n",
       "      <td>control</td>\n",
       "    </tr>\n",
       "    <tr>\n",
       "      <th>11911</th>\n",
       "      <td>11476</td>\n",
       "      <td>treatment</td>\n",
       "    </tr>\n",
       "    <tr>\n",
       "      <th>11912</th>\n",
       "      <td>805</td>\n",
       "      <td>treatment</td>\n",
       "    </tr>\n",
       "    <tr>\n",
       "      <th>11913</th>\n",
       "      <td>1743</td>\n",
       "      <td>treatment</td>\n",
       "    </tr>\n",
       "    <tr>\n",
       "      <th>11914</th>\n",
       "      <td>3400</td>\n",
       "      <td>control</td>\n",
       "    </tr>\n",
       "  </tbody>\n",
       "</table>\n",
       "<p>11915 rows × 2 columns</p>\n",
       "</div>"
      ],
      "text/plain": [
       "       user_id      group\n",
       "0         5034  treatment\n",
       "1         4725  treatment\n",
       "2          911  treatment\n",
       "3        13267    control\n",
       "4         5636    control\n",
       "...        ...        ...\n",
       "11910     7599    control\n",
       "11911    11476  treatment\n",
       "11912      805  treatment\n",
       "11913     1743  treatment\n",
       "11914     3400    control\n",
       "\n",
       "[11915 rows x 2 columns]"
      ]
     },
     "execution_count": 98,
     "metadata": {},
     "output_type": "execute_result"
    }
   ],
   "source": [
    "user_ab_group"
   ]
  },
  {
   "cell_type": "code",
   "execution_count": 7,
   "id": "f9839819",
   "metadata": {},
   "outputs": [
    {
     "data": {
      "text/plain": [
       "user_id    0\n",
       "gender     0\n",
       "age        0\n",
       "region     0\n",
       "dtype: int64"
      ]
     },
     "execution_count": 7,
     "metadata": {},
     "output_type": "execute_result"
    }
   ],
   "source": [
    "user.isna().sum()"
   ]
  },
  {
   "cell_type": "code",
   "execution_count": 8,
   "id": "c76f5d2e",
   "metadata": {},
   "outputs": [
    {
     "data": {
      "text/plain": [
       "user_id    0\n",
       "group      0\n",
       "dtype: int64"
      ]
     },
     "execution_count": 8,
     "metadata": {},
     "output_type": "execute_result"
    }
   ],
   "source": [
    "user_ab_group.isna().sum()"
   ]
  },
  {
   "cell_type": "code",
   "execution_count": 9,
   "id": "bb2ec19b",
   "metadata": {},
   "outputs": [
    {
     "data": {
      "text/plain": [
       "id                0\n",
       "good_name         0\n",
       "price_per_unit    0\n",
       "dtype: int64"
      ]
     },
     "execution_count": 9,
     "metadata": {},
     "output_type": "execute_result"
    }
   ],
   "source": [
    "good.isna().sum()"
   ]
  },
  {
   "cell_type": "code",
   "execution_count": 10,
   "id": "be9617ac",
   "metadata": {},
   "outputs": [
    {
     "data": {
      "text/plain": [
       "id           0\n",
       "user_id      0\n",
       "date_time    0\n",
       "dtype: int64"
      ]
     },
     "execution_count": 10,
     "metadata": {},
     "output_type": "execute_result"
    }
   ],
   "source": [
    "user_purchase.isna().sum()"
   ]
  },
  {
   "cell_type": "code",
   "execution_count": 11,
   "id": "a15731b4",
   "metadata": {},
   "outputs": [
    {
     "data": {
      "text/plain": [
       "purchase_id                 0\n",
       "good_id                     0\n",
       "amount                      0\n",
       "was_in_recommended_goods    0\n",
       "dtype: int64"
      ]
     },
     "execution_count": 11,
     "metadata": {},
     "output_type": "execute_result"
    }
   ],
   "source": [
    "purchase_good.isna().sum()"
   ]
  },
  {
   "cell_type": "code",
   "execution_count": 12,
   "id": "e87fd30f",
   "metadata": {
    "scrolled": false
   },
   "outputs": [
    {
     "data": {
      "text/html": [
       "<div>\n",
       "<style scoped>\n",
       "    .dataframe tbody tr th:only-of-type {\n",
       "        vertical-align: middle;\n",
       "    }\n",
       "\n",
       "    .dataframe tbody tr th {\n",
       "        vertical-align: top;\n",
       "    }\n",
       "\n",
       "    .dataframe thead th {\n",
       "        text-align: right;\n",
       "    }\n",
       "</style>\n",
       "<table border=\"1\" class=\"dataframe\">\n",
       "  <thead>\n",
       "    <tr style=\"text-align: right;\">\n",
       "      <th></th>\n",
       "      <th>user_id</th>\n",
       "      <th>gender</th>\n",
       "      <th>age</th>\n",
       "      <th>region</th>\n",
       "    </tr>\n",
       "  </thead>\n",
       "  <tbody>\n",
       "    <tr>\n",
       "      <th>0</th>\n",
       "      <td>1</td>\n",
       "      <td>Ж</td>\n",
       "      <td>23</td>\n",
       "      <td>Краснодарский край</td>\n",
       "    </tr>\n",
       "    <tr>\n",
       "      <th>1</th>\n",
       "      <td>2</td>\n",
       "      <td>Ж</td>\n",
       "      <td>43</td>\n",
       "      <td>Краснодарский край</td>\n",
       "    </tr>\n",
       "    <tr>\n",
       "      <th>2</th>\n",
       "      <td>3</td>\n",
       "      <td>М</td>\n",
       "      <td>36</td>\n",
       "      <td>Краснодарский край</td>\n",
       "    </tr>\n",
       "    <tr>\n",
       "      <th>3</th>\n",
       "      <td>4</td>\n",
       "      <td>Ж</td>\n",
       "      <td>39</td>\n",
       "      <td>Краснодарский край</td>\n",
       "    </tr>\n",
       "    <tr>\n",
       "      <th>4</th>\n",
       "      <td>5</td>\n",
       "      <td>М</td>\n",
       "      <td>43</td>\n",
       "      <td>Иркутская область</td>\n",
       "    </tr>\n",
       "    <tr>\n",
       "      <th>...</th>\n",
       "      <td>...</td>\n",
       "      <td>...</td>\n",
       "      <td>...</td>\n",
       "      <td>...</td>\n",
       "    </tr>\n",
       "    <tr>\n",
       "      <th>14995</th>\n",
       "      <td>14996</td>\n",
       "      <td>М</td>\n",
       "      <td>41</td>\n",
       "      <td>Нижегородская область</td>\n",
       "    </tr>\n",
       "    <tr>\n",
       "      <th>14996</th>\n",
       "      <td>14997</td>\n",
       "      <td>Ж</td>\n",
       "      <td>30</td>\n",
       "      <td>Астраханская область</td>\n",
       "    </tr>\n",
       "    <tr>\n",
       "      <th>14997</th>\n",
       "      <td>14998</td>\n",
       "      <td>М</td>\n",
       "      <td>26</td>\n",
       "      <td>Краснодарский край</td>\n",
       "    </tr>\n",
       "    <tr>\n",
       "      <th>14998</th>\n",
       "      <td>14999</td>\n",
       "      <td>М</td>\n",
       "      <td>36</td>\n",
       "      <td>Оренбургская область</td>\n",
       "    </tr>\n",
       "    <tr>\n",
       "      <th>14999</th>\n",
       "      <td>15000</td>\n",
       "      <td>Ж</td>\n",
       "      <td>34</td>\n",
       "      <td>Республика Адыгея</td>\n",
       "    </tr>\n",
       "  </tbody>\n",
       "</table>\n",
       "<p>15000 rows × 4 columns</p>\n",
       "</div>"
      ],
      "text/plain": [
       "       user_id gender  age                 region\n",
       "0            1      Ж   23     Краснодарский край\n",
       "1            2      Ж   43     Краснодарский край\n",
       "2            3      М   36     Краснодарский край\n",
       "3            4      Ж   39     Краснодарский край\n",
       "4            5      М   43      Иркутская область\n",
       "...        ...    ...  ...                    ...\n",
       "14995    14996      М   41  Нижегородская область\n",
       "14996    14997      Ж   30   Астраханская область\n",
       "14997    14998      М   26     Краснодарский край\n",
       "14998    14999      М   36   Оренбургская область\n",
       "14999    15000      Ж   34      Республика Адыгея\n",
       "\n",
       "[15000 rows x 4 columns]"
      ]
     },
     "execution_count": 12,
     "metadata": {},
     "output_type": "execute_result"
    }
   ],
   "source": [
    "user"
   ]
  },
  {
   "cell_type": "markdown",
   "id": "daf6d2f2",
   "metadata": {},
   "source": [
    "## Checking for a Sample Ratio Mismatch "
   ]
  },
  {
   "cell_type": "code",
   "execution_count": 13,
   "id": "c70d1c65",
   "metadata": {},
   "outputs": [],
   "source": [
    "user_ab_group_t = user_ab_group[user_ab_group['group'] == 'treatment']"
   ]
  },
  {
   "cell_type": "code",
   "execution_count": 14,
   "id": "fd19a0b5",
   "metadata": {},
   "outputs": [],
   "source": [
    "user_ab_group_c = user_ab_group[user_ab_group['group'] == 'control']"
   ]
  },
  {
   "cell_type": "code",
   "execution_count": 15,
   "id": "c1f8d72d",
   "metadata": {},
   "outputs": [],
   "source": [
    "user_ab_group_t_count = user_ab_group_t.count()\n",
    "user_ab_group_c_count = user_ab_group_c.count()"
   ]
  },
  {
   "cell_type": "code",
   "execution_count": 16,
   "id": "7fa24faf",
   "metadata": {},
   "outputs": [
    {
     "data": {
      "text/plain": [
       "user_id    5990\n",
       "group      5990\n",
       "dtype: int64"
      ]
     },
     "execution_count": 16,
     "metadata": {},
     "output_type": "execute_result"
    }
   ],
   "source": [
    "user_ab_group_t_count"
   ]
  },
  {
   "cell_type": "code",
   "execution_count": 17,
   "id": "6eb4f07a",
   "metadata": {},
   "outputs": [
    {
     "data": {
      "text/plain": [
       "user_id    5925\n",
       "group      5925\n",
       "dtype: int64"
      ]
     },
     "execution_count": 17,
     "metadata": {},
     "output_type": "execute_result"
    }
   ],
   "source": [
    "user_ab_group_c_count"
   ]
  },
  {
   "cell_type": "code",
   "execution_count": 108,
   "id": "ca977129",
   "metadata": {
    "scrolled": true
   },
   "outputs": [
    {
     "data": {
      "text/plain": [
       "(0.3545950482584977, 0.551523439600397)"
      ]
     },
     "execution_count": 108,
     "metadata": {},
     "output_type": "execute_result"
    }
   ],
   "source": [
    "group_counts = user_ab_group['group'].value_counts()\n",
    "expected_ratio = [0.5, 0.5]\n",
    "expected_counts = [len(user_ab_group) * ratio for ratio in expected_ratio]\n",
    "chi2_stat, p_value = chisquare(group_counts, expected_counts)\n",
    "chi2_stat, p_value"
   ]
  },
  {
   "cell_type": "markdown",
   "id": "f9f5728e",
   "metadata": {},
   "source": [
    "*Since the p-value (0.55) is much more than the significance level (0.05), there is not enough evidence to conclude that there is a significant difference between the observed and expected frequencies. The observed distribution could reasonably occur by random chance. The sample does not show a significant deviation from what was expected.*"
   ]
  },
  {
   "cell_type": "markdown",
   "id": "e9045284",
   "metadata": {},
   "source": [
    "## Checking the independence of samples:"
   ]
  },
  {
   "cell_type": "code",
   "execution_count": 97,
   "id": "3c0b6f74",
   "metadata": {},
   "outputs": [
    {
     "data": {
      "text/plain": [
       "set()"
      ]
     },
     "execution_count": 97,
     "metadata": {},
     "output_type": "execute_result"
    }
   ],
   "source": [
    "set(user_ab_group_t['user_id']).intersection(set(user_ab_group_c['user_id']))"
   ]
  },
  {
   "cell_type": "markdown",
   "id": "cedce1df",
   "metadata": {},
   "source": [
    "*Samples are independent.*"
   ]
  },
  {
   "cell_type": "markdown",
   "id": "c22e63b2",
   "metadata": {},
   "source": [
    "## Checking the distribution of demographic characteristics in both groups:"
   ]
  },
  {
   "cell_type": "code",
   "execution_count": 18,
   "id": "6de1497f",
   "metadata": {},
   "outputs": [],
   "source": [
    "user_treatment = pd.merge(user_ab_group_t, user, on='user_id', how='left')"
   ]
  },
  {
   "cell_type": "code",
   "execution_count": 19,
   "id": "358c3ca4",
   "metadata": {},
   "outputs": [],
   "source": [
    "user_control = pd.merge(user_ab_group_c, user, on='user_id', how='left')"
   ]
  },
  {
   "cell_type": "markdown",
   "id": "7397e9b3",
   "metadata": {},
   "source": [
    "### 1. Age distribution"
   ]
  },
  {
   "cell_type": "code",
   "execution_count": 119,
   "id": "9af6bc1c",
   "metadata": {
    "scrolled": false
   },
   "outputs": [
    {
     "data": {
      "text/plain": [
       "<Axes: xlabel='age', ylabel='Count'>"
      ]
     },
     "execution_count": 119,
     "metadata": {},
     "output_type": "execute_result"
    },
    {
     "data": {
      "image/png": "[encoded data removed]",
      "text/plain": [
       "<Figure size 1170x827 with 1 Axes>"
      ]
     },
     "metadata": {},
     "output_type": "display_data"
    }
   ],
   "source": [
    "sns.histplot(data=user_treatment, x='age', binwidth=1)\n",
    "sns.histplot(data=user_control, x='age', binwidth=1)"
   ]
  },
  {
   "cell_type": "markdown",
   "id": "766bb575",
   "metadata": {},
   "source": [
    "Levene test:"
   ]
  },
  {
   "cell_type": "code",
   "execution_count": 124,
   "id": "13aa5e97",
   "metadata": {},
   "outputs": [
    {
     "data": {
      "text/plain": [
       "LeveneResult(statistic=0.2837561798696279, pvalue=0.5942597213318257)"
      ]
     },
     "execution_count": 124,
     "metadata": {},
     "output_type": "execute_result"
    }
   ],
   "source": [
    "levene(user_treatment['age'], user_control['age'])"
   ]
  },
  {
   "cell_type": "markdown",
   "id": "14d7e736",
   "metadata": {},
   "source": [
    "*Levene's test indicates that the variances are equal (p-value (0.594) > 0.05)*"
   ]
  },
  {
   "cell_type": "code",
   "execution_count": 125,
   "id": "35872a78",
   "metadata": {},
   "outputs": [
    {
     "data": {
      "text/plain": [
       "TtestResult(statistic=0.7074179916671227, pvalue=0.4793205975492638, df=11913.0)"
      ]
     },
     "execution_count": 125,
     "metadata": {},
     "output_type": "execute_result"
    }
   ],
   "source": [
    "ttest_ind(user_treatment['age'], user_control['age'], equal_var=True)"
   ]
  },
  {
   "cell_type": "markdown",
   "id": "dc09b09f",
   "metadata": {},
   "source": [
    "*The p-value for the t-test is 0.479 (greater than 0.05), so the age distribution in groups \"Treatment\" and \"Control\" is considered the same*"
   ]
  },
  {
   "cell_type": "markdown",
   "id": "a9a184fe",
   "metadata": {},
   "source": [
    "### 2. Gender distribution"
   ]
  },
  {
   "cell_type": "code",
   "execution_count": 132,
   "id": "f8117463",
   "metadata": {},
   "outputs": [
    {
     "data": {
      "text/plain": [
       "Power_divergenceResult(statistic=0.45141903171953257, pvalue=0.5016618480508176)"
      ]
     },
     "execution_count": 132,
     "metadata": {},
     "output_type": "execute_result"
    }
   ],
   "source": [
    "gender_counts = user_treatment['gender'].value_counts()\n",
    "expected_ratio = [0.5, 0.5]\n",
    "expected_counts = [len(user_treatment) * ratio for ratio in expected_ratio]\n",
    "chisquare(gender_counts, expected_counts)"
   ]
  },
  {
   "cell_type": "markdown",
   "id": "0af8f800",
   "metadata": {},
   "source": [
    "*The p-value for the t-test is 0.502 (greater than 0.05), so the gender distribution in groups \"Treatment\" and \"Control\" is considered the same*"
   ]
  },
  {
   "cell_type": "markdown",
   "id": "b8190275",
   "metadata": {},
   "source": [
    "### 3. Region distribution"
   ]
  },
  {
   "cell_type": "code",
   "execution_count": 26,
   "id": "c8ada578",
   "metadata": {},
   "outputs": [
    {
     "data": {
      "text/plain": [
       "array(['Краснодарский край', 'Астраханская область',\n",
       "       'Нижегородская область', 'Санкт-Петербург', 'Оренбургская область',\n",
       "       'Иркутская область', 'Республика Адыгея'], dtype=object)"
      ]
     },
     "execution_count": 26,
     "metadata": {},
     "output_type": "execute_result"
    }
   ],
   "source": [
    "user_treatment['region'].unique()"
   ]
  },
  {
   "cell_type": "code",
   "execution_count": 27,
   "id": "56dda527",
   "metadata": {},
   "outputs": [
    {
     "data": {
      "text/plain": [
       "array(['Краснодарский край', 'Санкт-Петербург', 'Нижегородская область',\n",
       "       'Иркутская область', 'Астраханская область',\n",
       "       'Оренбургская область', 'Республика Адыгея'], dtype=object)"
      ]
     },
     "execution_count": 27,
     "metadata": {},
     "output_type": "execute_result"
    }
   ],
   "source": [
    "user_control['region'].unique()"
   ]
  },
  {
   "cell_type": "code",
   "execution_count": 146,
   "id": "7a203734",
   "metadata": {},
   "outputs": [
    {
     "data": {
      "text/plain": [
       "7"
      ]
     },
     "execution_count": 146,
     "metadata": {},
     "output_type": "execute_result"
    }
   ],
   "source": [
    "regions = user_control['region'].nunique()\n",
    "regions"
   ]
  },
  {
   "cell_type": "code",
   "execution_count": 156,
   "id": "2a7d3141",
   "metadata": {},
   "outputs": [
    {
     "data": {
      "text/html": [
       "<div>\n",
       "<style scoped>\n",
       "    .dataframe tbody tr th:only-of-type {\n",
       "        vertical-align: middle;\n",
       "    }\n",
       "\n",
       "    .dataframe tbody tr th {\n",
       "        vertical-align: top;\n",
       "    }\n",
       "\n",
       "    .dataframe thead th {\n",
       "        text-align: right;\n",
       "    }\n",
       "</style>\n",
       "<table border=\"1\" class=\"dataframe\">\n",
       "  <thead>\n",
       "    <tr style=\"text-align: right;\">\n",
       "      <th>region</th>\n",
       "      <th>Астраханская область</th>\n",
       "      <th>Иркутская область</th>\n",
       "      <th>Краснодарский край</th>\n",
       "      <th>Нижегородская область</th>\n",
       "      <th>Оренбургская область</th>\n",
       "      <th>Республика Адыгея</th>\n",
       "      <th>Санкт-Петербург</th>\n",
       "    </tr>\n",
       "    <tr>\n",
       "      <th>group</th>\n",
       "      <th></th>\n",
       "      <th></th>\n",
       "      <th></th>\n",
       "      <th></th>\n",
       "      <th></th>\n",
       "      <th></th>\n",
       "      <th></th>\n",
       "    </tr>\n",
       "  </thead>\n",
       "  <tbody>\n",
       "    <tr>\n",
       "      <th>treatment</th>\n",
       "      <td>305</td>\n",
       "      <td>875</td>\n",
       "      <td>1865</td>\n",
       "      <td>773</td>\n",
       "      <td>629</td>\n",
       "      <td>125</td>\n",
       "      <td>1418</td>\n",
       "    </tr>\n",
       "    <tr>\n",
       "      <th>control</th>\n",
       "      <td>285</td>\n",
       "      <td>897</td>\n",
       "      <td>1857</td>\n",
       "      <td>835</td>\n",
       "      <td>614</td>\n",
       "      <td>113</td>\n",
       "      <td>1324</td>\n",
       "    </tr>\n",
       "  </tbody>\n",
       "</table>\n",
       "</div>"
      ],
      "text/plain": [
       "region     Астраханская область  Иркутская область  Краснодарский край  \\\n",
       "group                                                                    \n",
       "treatment                   305                875                1865   \n",
       "control                     285                897                1857   \n",
       "\n",
       "region     Нижегородская область  Оренбургская область  Республика Адыгея  \\\n",
       "group                                                                       \n",
       "treatment                    773                   629                125   \n",
       "control                      835                   614                113   \n",
       "\n",
       "region     Санкт-Петербург  \n",
       "group                       \n",
       "treatment             1418  \n",
       "control               1324  "
      ]
     },
     "execution_count": 156,
     "metadata": {},
     "output_type": "execute_result"
    }
   ],
   "source": [
    "contingency_table = pd.concat([pd.crosstab(user_treatment['group'], user_treatment['region']), \\\n",
    "                               pd.crosstab(user_control['group'], user_control['region'])])\n",
    "contingency_table"
   ]
  },
  {
   "cell_type": "code",
   "execution_count": 157,
   "id": "64c3dbe6",
   "metadata": {},
   "outputs": [
    {
     "data": {
      "text/plain": [
       "Chi2ContingencyResult(statistic=7.012980827253548, pvalue=0.3196484080489226, dof=6, expected_freq=array([[ 296.60931599,  890.83340327, 1871.152329  ,  808.38606798,\n",
       "         624.89047419,  119.6491817 , 1378.47922786],\n",
       "       [ 293.39068401,  881.16659673, 1850.847671  ,  799.61393202,\n",
       "         618.10952581,  118.3508183 , 1363.52077214]]))"
      ]
     },
     "execution_count": 157,
     "metadata": {},
     "output_type": "execute_result"
    }
   ],
   "source": [
    "chi2_contingency(contingency_table)"
   ]
  },
  {
   "cell_type": "markdown",
   "id": "c3045747",
   "metadata": {},
   "source": [
    "*The p-value for the t-test is 0.502 (greater than 0.05), so there is no significant difference in gender distribution between groups \"Treatment\" and \"Control\"*"
   ]
  },
  {
   "cell_type": "markdown",
   "id": "a971691d",
   "metadata": {},
   "source": [
    "*We can conclude that gender, age and regions are evenly distributed between groups.*"
   ]
  },
  {
   "cell_type": "markdown",
   "id": "21a7f2a5",
   "metadata": {},
   "source": [
    "## How to evaluate how much more revenue the purchases brought in?"
   ]
  },
  {
   "cell_type": "markdown",
   "id": "7f9171cf",
   "metadata": {},
   "source": [
    "It seems a good choice to count following metrics:  \n",
    "    1. Average revenue per user;  \n",
    "    2. Average revenue per paying user;  \n",
    "    3. Average revenue per user from algorithm-recommended products;  \n",
    "    4. Average revenue per paying user from algorithm-recommended products."
   ]
  },
  {
   "cell_type": "markdown",
   "id": "384e6365",
   "metadata": {},
   "source": [
    "The plan of analysis:  \n",
    "    1. Keep the information only about the purchases of the users we need during the experiment period (from 01.10.23 to 14.10.23).  \n",
    "    2. Calculate the revenues for each user described above.  \n",
    "    3. Compare the average revenues in the \"Treatment\" and \"Control\" groups using a t-test.  \n",
    "    4. Interpret the obtained result.\n",
    "___"
   ]
  },
  {
   "cell_type": "markdown",
   "id": "e2f62350",
   "metadata": {},
   "source": [
    "### 1. Let's keep the information only about the purchases of the users we need during the experiment period (from 01.10.23 to 14.10.23):"
   ]
  },
  {
   "cell_type": "code",
   "execution_count": 30,
   "id": "3316ca01",
   "metadata": {},
   "outputs": [],
   "source": [
    "purchases = user_purchase.merge(purchase_good, left_on='id', right_on='purchase_id', how='left') \\\n",
    "                         .merge(good, left_on='good_id', right_on='id', how='left') \\\n",
    "                         .merge(user_ab_group, left_on='user_id', right_on='user_id', how='left')"
   ]
  },
  {
   "cell_type": "code",
   "execution_count": 32,
   "id": "8193cecf",
   "metadata": {},
   "outputs": [],
   "source": [
    "purchases = purchases.copy()"
   ]
  },
  {
   "cell_type": "code",
   "execution_count": 33,
   "id": "ca0362ca",
   "metadata": {},
   "outputs": [],
   "source": [
    "purchases = purchases.dropna(subset='group')"
   ]
  },
  {
   "cell_type": "code",
   "execution_count": 34,
   "id": "5be72355",
   "metadata": {},
   "outputs": [],
   "source": [
    "purchases['date_time'] = pd.to_datetime(purchases['date_time'], format='%Y-%m-%d %H:%M:%S')"
   ]
  },
  {
   "cell_type": "code",
   "execution_count": 35,
   "id": "724de178",
   "metadata": {},
   "outputs": [],
   "source": [
    "purchases = purchases[(purchases['date_time'] > pd.to_datetime('2023-10-01 00:00:00', format='%Y-%m-%d %H:%M:%S')) &\n",
    "          (purchases['date_time'] < pd.to_datetime('2023-10-15 00:00:00', format='%Y-%m-%d %H:%M:%S'))]"
   ]
  },
  {
   "cell_type": "code",
   "execution_count": 36,
   "id": "5077026c",
   "metadata": {},
   "outputs": [],
   "source": [
    "purchases = purchases.drop(columns=['id_x'])"
   ]
  },
  {
   "cell_type": "code",
   "execution_count": 158,
   "id": "775ccdaf",
   "metadata": {
    "scrolled": false
   },
   "outputs": [
    {
     "data": {
      "text/html": [
       "<div>\n",
       "<style scoped>\n",
       "    .dataframe tbody tr th:only-of-type {\n",
       "        vertical-align: middle;\n",
       "    }\n",
       "\n",
       "    .dataframe tbody tr th {\n",
       "        vertical-align: top;\n",
       "    }\n",
       "\n",
       "    .dataframe thead th {\n",
       "        text-align: right;\n",
       "    }\n",
       "</style>\n",
       "<table border=\"1\" class=\"dataframe\">\n",
       "  <thead>\n",
       "    <tr style=\"text-align: right;\">\n",
       "      <th></th>\n",
       "      <th>user_id</th>\n",
       "      <th>date_time</th>\n",
       "      <th>purchase_id</th>\n",
       "      <th>good_id</th>\n",
       "      <th>amount</th>\n",
       "      <th>was_in_recommended_goods</th>\n",
       "      <th>good_name</th>\n",
       "      <th>price_per_unit</th>\n",
       "      <th>group</th>\n",
       "      <th>total</th>\n",
       "    </tr>\n",
       "  </thead>\n",
       "  <tbody>\n",
       "    <tr>\n",
       "      <th>53254</th>\n",
       "      <td>12987</td>\n",
       "      <td>2023-10-01 00:02:30</td>\n",
       "      <td>11833</td>\n",
       "      <td>14</td>\n",
       "      <td>1</td>\n",
       "      <td>False</td>\n",
       "      <td>Бразильские орехи</td>\n",
       "      <td>434</td>\n",
       "      <td>treatment</td>\n",
       "      <td>434</td>\n",
       "    </tr>\n",
       "    <tr>\n",
       "      <th>53255</th>\n",
       "      <td>12987</td>\n",
       "      <td>2023-10-01 00:02:30</td>\n",
       "      <td>11833</td>\n",
       "      <td>11</td>\n",
       "      <td>1</td>\n",
       "      <td>False</td>\n",
       "      <td>Кедровые орехи</td>\n",
       "      <td>470</td>\n",
       "      <td>treatment</td>\n",
       "      <td>470</td>\n",
       "    </tr>\n",
       "    <tr>\n",
       "      <th>53256</th>\n",
       "      <td>12987</td>\n",
       "      <td>2023-10-01 00:02:30</td>\n",
       "      <td>11833</td>\n",
       "      <td>27</td>\n",
       "      <td>1</td>\n",
       "      <td>False</td>\n",
       "      <td>Ягоды годжи</td>\n",
       "      <td>587</td>\n",
       "      <td>treatment</td>\n",
       "      <td>587</td>\n",
       "    </tr>\n",
       "    <tr>\n",
       "      <th>53257</th>\n",
       "      <td>12987</td>\n",
       "      <td>2023-10-01 00:02:30</td>\n",
       "      <td>11833</td>\n",
       "      <td>53</td>\n",
       "      <td>1</td>\n",
       "      <td>False</td>\n",
       "      <td>Гранатовый сок натуральный</td>\n",
       "      <td>447</td>\n",
       "      <td>treatment</td>\n",
       "      <td>447</td>\n",
       "    </tr>\n",
       "    <tr>\n",
       "      <th>53258</th>\n",
       "      <td>5026</td>\n",
       "      <td>2023-10-01 00:02:46</td>\n",
       "      <td>11834</td>\n",
       "      <td>82</td>\n",
       "      <td>1</td>\n",
       "      <td>True</td>\n",
       "      <td>Паста из сладкой картошки</td>\n",
       "      <td>413</td>\n",
       "      <td>control</td>\n",
       "      <td>413</td>\n",
       "    </tr>\n",
       "    <tr>\n",
       "      <th>...</th>\n",
       "      <td>...</td>\n",
       "      <td>...</td>\n",
       "      <td>...</td>\n",
       "      <td>...</td>\n",
       "      <td>...</td>\n",
       "      <td>...</td>\n",
       "      <td>...</td>\n",
       "      <td>...</td>\n",
       "      <td>...</td>\n",
       "      <td>...</td>\n",
       "    </tr>\n",
       "    <tr>\n",
       "      <th>137776</th>\n",
       "      <td>9557</td>\n",
       "      <td>2023-10-14 23:58:28</td>\n",
       "      <td>26721</td>\n",
       "      <td>27</td>\n",
       "      <td>1</td>\n",
       "      <td>False</td>\n",
       "      <td>Ягоды годжи</td>\n",
       "      <td>587</td>\n",
       "      <td>treatment</td>\n",
       "      <td>587</td>\n",
       "    </tr>\n",
       "    <tr>\n",
       "      <th>137777</th>\n",
       "      <td>9557</td>\n",
       "      <td>2023-10-14 23:58:28</td>\n",
       "      <td>26721</td>\n",
       "      <td>73</td>\n",
       "      <td>1</td>\n",
       "      <td>True</td>\n",
       "      <td>Кунжутные лепёшки</td>\n",
       "      <td>425</td>\n",
       "      <td>treatment</td>\n",
       "      <td>425</td>\n",
       "    </tr>\n",
       "    <tr>\n",
       "      <th>137778</th>\n",
       "      <td>9557</td>\n",
       "      <td>2023-10-14 23:58:28</td>\n",
       "      <td>26721</td>\n",
       "      <td>6</td>\n",
       "      <td>1</td>\n",
       "      <td>True</td>\n",
       "      <td>Греческий йогурт с низким содержанием жира</td>\n",
       "      <td>426</td>\n",
       "      <td>treatment</td>\n",
       "      <td>426</td>\n",
       "    </tr>\n",
       "    <tr>\n",
       "      <th>137779</th>\n",
       "      <td>9557</td>\n",
       "      <td>2023-10-14 23:58:28</td>\n",
       "      <td>26721</td>\n",
       "      <td>37</td>\n",
       "      <td>1</td>\n",
       "      <td>True</td>\n",
       "      <td>Амарантовые хлопья</td>\n",
       "      <td>509</td>\n",
       "      <td>treatment</td>\n",
       "      <td>509</td>\n",
       "    </tr>\n",
       "    <tr>\n",
       "      <th>137780</th>\n",
       "      <td>9557</td>\n",
       "      <td>2023-10-14 23:58:28</td>\n",
       "      <td>26721</td>\n",
       "      <td>47</td>\n",
       "      <td>1</td>\n",
       "      <td>True</td>\n",
       "      <td>Льняные чипсы</td>\n",
       "      <td>625</td>\n",
       "      <td>treatment</td>\n",
       "      <td>625</td>\n",
       "    </tr>\n",
       "  </tbody>\n",
       "</table>\n",
       "<p>70971 rows × 10 columns</p>\n",
       "</div>"
      ],
      "text/plain": [
       "        user_id           date_time  purchase_id  good_id  amount  \\\n",
       "53254     12987 2023-10-01 00:02:30        11833       14       1   \n",
       "53255     12987 2023-10-01 00:02:30        11833       11       1   \n",
       "53256     12987 2023-10-01 00:02:30        11833       27       1   \n",
       "53257     12987 2023-10-01 00:02:30        11833       53       1   \n",
       "53258      5026 2023-10-01 00:02:46        11834       82       1   \n",
       "...         ...                 ...          ...      ...     ...   \n",
       "137776     9557 2023-10-14 23:58:28        26721       27       1   \n",
       "137777     9557 2023-10-14 23:58:28        26721       73       1   \n",
       "137778     9557 2023-10-14 23:58:28        26721        6       1   \n",
       "137779     9557 2023-10-14 23:58:28        26721       37       1   \n",
       "137780     9557 2023-10-14 23:58:28        26721       47       1   \n",
       "\n",
       "        was_in_recommended_goods                                   good_name  \\\n",
       "53254                      False                           Бразильские орехи   \n",
       "53255                      False                              Кедровые орехи   \n",
       "53256                      False                                 Ягоды годжи   \n",
       "53257                      False                  Гранатовый сок натуральный   \n",
       "53258                       True                   Паста из сладкой картошки   \n",
       "...                          ...                                         ...   \n",
       "137776                     False                                 Ягоды годжи   \n",
       "137777                      True                           Кунжутные лепёшки   \n",
       "137778                      True  Греческий йогурт с низким содержанием жира   \n",
       "137779                      True                          Амарантовые хлопья   \n",
       "137780                      True                               Льняные чипсы   \n",
       "\n",
       "        price_per_unit      group  total  \n",
       "53254              434  treatment    434  \n",
       "53255              470  treatment    470  \n",
       "53256              587  treatment    587  \n",
       "53257              447  treatment    447  \n",
       "53258              413    control    413  \n",
       "...                ...        ...    ...  \n",
       "137776             587  treatment    587  \n",
       "137777             425  treatment    425  \n",
       "137778             426  treatment    426  \n",
       "137779             509  treatment    509  \n",
       "137780             625  treatment    625  \n",
       "\n",
       "[70971 rows x 10 columns]"
      ]
     },
     "execution_count": 158,
     "metadata": {},
     "output_type": "execute_result"
    }
   ],
   "source": [
    "purchases"
   ]
  },
  {
   "cell_type": "markdown",
   "id": "943ffe53",
   "metadata": {},
   "source": [
    "### 2. Let's calculate the revenues for each user:"
   ]
  },
  {
   "cell_type": "code",
   "execution_count": 159,
   "id": "9e567e15",
   "metadata": {},
   "outputs": [],
   "source": [
    "purchases['total'] = purchases['amount'] * purchases['price_per_unit']"
   ]
  },
  {
   "cell_type": "code",
   "execution_count": 160,
   "id": "db13acf5",
   "metadata": {},
   "outputs": [],
   "source": [
    "purchases_t = purchases[purchases['group'] == 'treatment']"
   ]
  },
  {
   "cell_type": "code",
   "execution_count": 161,
   "id": "b961d602",
   "metadata": {},
   "outputs": [],
   "source": [
    "purchases_c = purchases[purchases['group'] == 'control']"
   ]
  },
  {
   "cell_type": "markdown",
   "id": "d0a1e12e",
   "metadata": {},
   "source": [
    "The revenues from each paying user for \"Treatment\" and \"Control\" groups:"
   ]
  },
  {
   "cell_type": "code",
   "execution_count": 162,
   "id": "df123305",
   "metadata": {},
   "outputs": [],
   "source": [
    "bills_t = purchases_t.groupby('user_id').agg({'total' : 'sum'})\n",
    "bills_c = purchases_c.groupby('user_id').agg({'total' : 'sum'})"
   ]
  },
  {
   "cell_type": "markdown",
   "id": "aff18c5a",
   "metadata": {},
   "source": [
    "The revenues from each user for \"Treatment\" and \"Control\" groups:"
   ]
  },
  {
   "cell_type": "code",
   "execution_count": 163,
   "id": "3946b491",
   "metadata": {},
   "outputs": [],
   "source": [
    "bills_t_all = user_treatment.merge(bills_t, left_on='user_id', right_on='user_id', how='left') \\\n",
    "                            .drop(columns=['group', 'gender', 'age', 'region']) \\\n",
    "                            .fillna(0)"
   ]
  },
  {
   "cell_type": "code",
   "execution_count": 164,
   "id": "e97dd799",
   "metadata": {},
   "outputs": [],
   "source": [
    "bills_c_all = user_control.merge(bills_c, left_on='user_id', right_on='user_id', how='left') \\\n",
    "                            .drop(columns=['group', 'gender', 'age', 'region']) \\\n",
    "                            .fillna(0)"
   ]
  },
  {
   "cell_type": "markdown",
   "id": "2af1f6b6",
   "metadata": {},
   "source": [
    "The revenues from each paying user from algorithm-recommended products for \"Treatment\" and \"Control\" groups:"
   ]
  },
  {
   "cell_type": "code",
   "execution_count": 168,
   "id": "27d949f5",
   "metadata": {},
   "outputs": [],
   "source": [
    "bills_rec_t = purchases_t.query('was_in_recommended_goods == True').groupby('user_id').agg({'total' : 'sum'})\n",
    "bills_rec_c = purchases_c.query('was_in_recommended_goods == True').groupby('user_id').agg({'total' : 'sum'})"
   ]
  },
  {
   "cell_type": "markdown",
   "id": "bec15987",
   "metadata": {},
   "source": [
    "The revenues from each user from algorithm-recommended products for \"Treatment\" and \"Control\" groups:"
   ]
  },
  {
   "cell_type": "code",
   "execution_count": 169,
   "id": "d457dbf0",
   "metadata": {},
   "outputs": [],
   "source": [
    "bills_rec_t_all = user_treatment.merge(bills_rec_t, left_on='user_id', right_on='user_id', how='left') \\\n",
    "                            .drop(columns=['group', 'gender', 'age', 'region']) \\\n",
    "                            .fillna(0)"
   ]
  },
  {
   "cell_type": "code",
   "execution_count": 170,
   "id": "f1be53b6",
   "metadata": {},
   "outputs": [],
   "source": [
    "bills_rec_c_all = user_control.merge(bills_rec_c, left_on='user_id', right_on='user_id', how='left') \\\n",
    "                            .drop(columns=['group', 'gender', 'age', 'region']) \\\n",
    "                            .fillna(0)"
   ]
  },
  {
   "cell_type": "markdown",
   "id": "5b65aff6",
   "metadata": {},
   "source": [
    "### 3. Let's compare the average revenues in the \"Treatment\" and \"Control\" groups using a t-test:"
   ]
  },
  {
   "cell_type": "markdown",
   "id": "eb969c9d",
   "metadata": {},
   "source": [
    "Firstly, it should be checked if variances are identical, using Levene test:"
   ]
  },
  {
   "cell_type": "markdown",
   "id": "c10cb71d",
   "metadata": {},
   "source": [
    "1. The revenues from each paying user for \"Treatment\" and \"Control\" groups:"
   ]
  },
  {
   "cell_type": "code",
   "execution_count": 182,
   "id": "c74079a9",
   "metadata": {},
   "outputs": [
    {
     "data": {
      "text/plain": [
       "<Axes: xlabel='total', ylabel='Count'>"
      ]
     },
     "execution_count": 182,
     "metadata": {},
     "output_type": "execute_result"
    },
    {
     "data": {
      "image/png": "[encoded data removed]",
      "text/plain": [
       "<Figure size 1170x827 with 1 Axes>"
      ]
     },
     "metadata": {},
     "output_type": "display_data"
    }
   ],
   "source": [
    "sns.histplot(data=bills_t['total'], binwidth=400)\n",
    "sns.histplot(data=bills_c['total'], binwidth=400)"
   ]
  },
  {
   "cell_type": "code",
   "execution_count": 171,
   "id": "fa19896a",
   "metadata": {},
   "outputs": [
    {
     "data": {
      "text/plain": [
       "LeveneResult(statistic=430.0182173048538, pvalue=3.0420824391764643e-93)"
      ]
     },
     "execution_count": 171,
     "metadata": {},
     "output_type": "execute_result"
    }
   ],
   "source": [
    "levene(bills_t['total'], bills_c['total'])"
   ]
  },
  {
   "cell_type": "markdown",
   "id": "ac1149b1",
   "metadata": {},
   "source": [
    "2. The revenues from each user for \"Treatment\" and \"Control\" groups:"
   ]
  },
  {
   "cell_type": "code",
   "execution_count": 176,
   "id": "719799ed",
   "metadata": {},
   "outputs": [
    {
     "data": {
      "text/plain": [
       "<Axes: xlabel='total', ylabel='Count'>"
      ]
     },
     "execution_count": 176,
     "metadata": {},
     "output_type": "execute_result"
    },
    {
     "data": {
      "image/png": "[encoded data removed]",
      "text/plain": [
       "<Figure size 1170x827 with 1 Axes>"
      ]
     },
     "metadata": {},
     "output_type": "display_data"
    }
   ],
   "source": [
    "sns.histplot(data=bills_t_all['total'], binwidth=400)\n",
    "sns.histplot(data=bills_c_all['total'], binwidth=400)"
   ]
  },
  {
   "cell_type": "code",
   "execution_count": 172,
   "id": "33db7423",
   "metadata": {},
   "outputs": [
    {
     "data": {
      "text/plain": [
       "LeveneResult(statistic=773.1844635858525, pvalue=6.30352090593839e-165)"
      ]
     },
     "execution_count": 172,
     "metadata": {},
     "output_type": "execute_result"
    }
   ],
   "source": [
    "levene(bills_t_all['total'], bills_c_all['total'])"
   ]
  },
  {
   "cell_type": "markdown",
   "id": "143001d6",
   "metadata": {},
   "source": [
    "3. The revenues from each paying user from algorithm-recommended products for \"Treatment\" and \"Control\" groups:"
   ]
  },
  {
   "cell_type": "code",
   "execution_count": 179,
   "id": "a6398368",
   "metadata": {},
   "outputs": [
    {
     "data": {
      "text/plain": [
       "<Axes: xlabel='total', ylabel='Count'>"
      ]
     },
     "execution_count": 179,
     "metadata": {},
     "output_type": "execute_result"
    },
    {
     "data": {
      "image/png": "[encoded data removed]",
      "text/plain": [
       "<Figure size 1170x827 with 1 Axes>"
      ]
     },
     "metadata": {},
     "output_type": "display_data"
    }
   ],
   "source": [
    "sns.histplot(data=bills_rec_t['total'], binwidth=400)\n",
    "sns.histplot(data=bills_rec_c['total'], binwidth=400)"
   ]
  },
  {
   "cell_type": "code",
   "execution_count": 177,
   "id": "896d8422",
   "metadata": {},
   "outputs": [
    {
     "data": {
      "text/plain": [
       "LeveneResult(statistic=741.2352401626503, pvalue=2.796753451825121e-155)"
      ]
     },
     "execution_count": 177,
     "metadata": {},
     "output_type": "execute_result"
    }
   ],
   "source": [
    "levene(bills_rec_t['total'], bills_rec_c['total'])"
   ]
  },
  {
   "cell_type": "markdown",
   "id": "7185ede1",
   "metadata": {},
   "source": [
    "4. The revenues from each user from algorithm-recommended products for \"Treatment\" and \"Control\" groups:"
   ]
  },
  {
   "cell_type": "code",
   "execution_count": 180,
   "id": "d920f7ef",
   "metadata": {},
   "outputs": [
    {
     "data": {
      "text/plain": [
       "<Axes: xlabel='total', ylabel='Count'>"
      ]
     },
     "execution_count": 180,
     "metadata": {},
     "output_type": "execute_result"
    },
    {
     "data": {
      "image/png": "[encoded data removed]",
      "text/plain": [
       "<Figure size 1170x827 with 1 Axes>"
      ]
     },
     "metadata": {},
     "output_type": "display_data"
    }
   ],
   "source": [
    "sns.histplot(data=bills_rec_t_all['total'], binwidth=400)\n",
    "sns.histplot(data=bills_rec_c_all['total'], binwidth=400)"
   ]
  },
  {
   "cell_type": "code",
   "execution_count": 174,
   "id": "c9f171c5",
   "metadata": {},
   "outputs": [
    {
     "data": {
      "text/plain": [
       "LeveneResult(statistic=1448.7929978024074, pvalue=2.8357082727230253e-299)"
      ]
     },
     "execution_count": 174,
     "metadata": {},
     "output_type": "execute_result"
    }
   ],
   "source": [
    "levene(bills_rec_t_all['total'], bills_rec_c_all['total'])"
   ]
  },
  {
   "cell_type": "markdown",
   "id": "866a7f2d",
   "metadata": {},
   "source": [
    "*The p-values for the Levene tests are much smaller than 0.05. Therefore, the variances of all considered metrics are significantly different across the groups. Consequently, Welch’s t-test should be applied.  \n",
    "As noted, the data is not normally distributed. However, the sample sizes are large (n > 30), so the Central Limit Theorem states that the distribution of the sample means will be approximately normally distributed, regardless of the shape of the underlying distribution.*"
   ]
  },
  {
   "cell_type": "markdown",
   "id": "8154193a",
   "metadata": {},
   "source": [
    "#### Comparison the average revenues in the 'Control' and 'Treatment' groups applying a Welch's t-test:"
   ]
  },
  {
   "cell_type": "markdown",
   "id": "ba914364",
   "metadata": {},
   "source": [
    "1. The average revenues per paying user for \"Treatment\" and \"Control\" groups:"
   ]
  },
  {
   "cell_type": "code",
   "execution_count": 186,
   "id": "a5f788e1",
   "metadata": {
    "scrolled": true
   },
   "outputs": [
    {
     "data": {
      "text/plain": [
       "(6154.173822232537, 3668.4195361911457)"
      ]
     },
     "execution_count": 186,
     "metadata": {},
     "output_type": "execute_result"
    }
   ],
   "source": [
    "ARPPU_t = bills_t['total'].mean()\n",
    "ARPPU_c = bills_c['total'].mean()\n",
    "ARPPU_t, ARPPU_c"
   ]
  },
  {
   "cell_type": "markdown",
   "id": "33750574",
   "metadata": {},
   "source": [
    "Welch's t-test:"
   ]
  },
  {
   "cell_type": "code",
   "execution_count": 187,
   "id": "e3676a24",
   "metadata": {},
   "outputs": [
    {
     "data": {
      "text/plain": [
       "TtestResult(statistic=29.470359805661392, pvalue=1.0081442289820742e-180, df=7502.431400502748)"
      ]
     },
     "execution_count": 187,
     "metadata": {},
     "output_type": "execute_result"
    }
   ],
   "source": [
    "ttest_ind(bills_t['total'], bills_c['total'], equal_var=False)"
   ]
  },
  {
   "cell_type": "markdown",
   "id": "1168770b",
   "metadata": {},
   "source": [
    "*The p-value is much smaller than our threshold (0.05), so we have evidence against the null hypothesis of equal population means. Therefore, there is a significant difference between the means of the average revenues per paying user for \"Treatment\" and \"Control\"  groups.*"
   ]
  },
  {
   "cell_type": "markdown",
   "id": "295014fa",
   "metadata": {},
   "source": [
    "2. The average revenues per user for \"Treatment\" and \"Control\" groups:"
   ]
  },
  {
   "cell_type": "code",
   "execution_count": 189,
   "id": "e77f17f4",
   "metadata": {},
   "outputs": [
    {
     "data": {
      "text/plain": [
       "(4427.101001669449, 2643.119493670886)"
      ]
     },
     "execution_count": 189,
     "metadata": {},
     "output_type": "execute_result"
    }
   ],
   "source": [
    "ARPU_t = bills_t_all['total'].mean()\n",
    "ARPU_c = bills_c_all['total'].mean()\n",
    "ARPU_t, ARPU_c"
   ]
  },
  {
   "cell_type": "markdown",
   "id": "2a7aef56",
   "metadata": {},
   "source": [
    "Welch's t-test:"
   ]
  },
  {
   "cell_type": "code",
   "execution_count": 190,
   "id": "8d6dfc32",
   "metadata": {},
   "outputs": [
    {
     "data": {
      "text/plain": [
       "TtestResult(statistic=24.233967540582896, pvalue=3.3634787988538025e-126, df=10232.906892414549)"
      ]
     },
     "execution_count": 190,
     "metadata": {},
     "output_type": "execute_result"
    }
   ],
   "source": [
    "ttest_ind(bills_t_all['total'], bills_c_all['total'], equal_var=False)"
   ]
  },
  {
   "cell_type": "markdown",
   "id": "025ab0c7",
   "metadata": {},
   "source": [
    "*The p-value is much smaller than our threshold (0.05), so we have evidence against the null hypothesis of equal population means. Therefore, there is a significant difference between the means of the average revenues per user for \"Treatment\" and \"Control\"  groups.*"
   ]
  },
  {
   "cell_type": "markdown",
   "id": "650de54e",
   "metadata": {},
   "source": [
    "3. The average revenue per paying user from algorithm-recommended products:"
   ]
  },
  {
   "cell_type": "code",
   "execution_count": 193,
   "id": "8e527f3b",
   "metadata": {},
   "outputs": [
    {
     "data": {
      "text/plain": [
       "(3027.353166496425, 1513.0772669220944)"
      ]
     },
     "execution_count": 193,
     "metadata": {},
     "output_type": "execute_result"
    }
   ],
   "source": [
    "ARPPU_rec_t = bills_rec_t['total'].mean()\n",
    "ARPPU_rec_c = bills_rec_c['total'].mean()\n",
    "ARPPU_rec_t, ARPPU_rec_c"
   ]
  },
  {
   "cell_type": "markdown",
   "id": "b26e90db",
   "metadata": {},
   "source": [
    "Welch's t-test:"
   ]
  },
  {
   "cell_type": "code",
   "execution_count": 192,
   "id": "ea6d99ba",
   "metadata": {},
   "outputs": [
    {
     "data": {
      "text/plain": [
       "TtestResult(statistic=33.71407217854639, pvalue=3.843874155207315e-231, df=7046.0)"
      ]
     },
     "execution_count": 192,
     "metadata": {},
     "output_type": "execute_result"
    }
   ],
   "source": [
    "ttest_ind(bills_rec_t['total'], bills_rec_c['total'])"
   ]
  },
  {
   "cell_type": "markdown",
   "id": "e749cb78",
   "metadata": {},
   "source": [
    "*The p-value is much smaller than our threshold (0.05), so we have evidence against the null hypothesis of equal population means. Therefore, there is a significant difference between the means of the average revenue per paying user from algorithm-recommended products for \"Treatment\" and \"Control\"  groups.*"
   ]
  },
  {
   "cell_type": "markdown",
   "id": "4c186e1d",
   "metadata": {},
   "source": [
    "4. The average revenue per user from algorithm-recommended products:"
   ]
  },
  {
   "cell_type": "code",
   "execution_count": 194,
   "id": "6e0625f7",
   "metadata": {},
   "outputs": [
    {
     "data": {
      "text/plain": [
       "(1979.1510851419032, 799.824135021097)"
      ]
     },
     "execution_count": 194,
     "metadata": {},
     "output_type": "execute_result"
    }
   ],
   "source": [
    "ARPU_rec_t = bills_rec_t_all['total'].mean()\n",
    "ARPU_rec_c = bills_rec_c_all['total'].mean()\n",
    "ARPU_rec_t, ARPU_rec_c"
   ]
  },
  {
   "cell_type": "markdown",
   "id": "7beadd84",
   "metadata": {},
   "source": [
    "Welch's t-test:"
   ]
  },
  {
   "cell_type": "code",
   "execution_count": 195,
   "id": "5a6081de",
   "metadata": {},
   "outputs": [
    {
     "data": {
      "text/plain": [
       "TtestResult(statistic=34.88988977021957, pvalue=4.967277453732467e-254, df=11913.0)"
      ]
     },
     "execution_count": 195,
     "metadata": {},
     "output_type": "execute_result"
    }
   ],
   "source": [
    "ttest_ind(bills_rec_t_all['total'], bills_rec_c_all['total'])"
   ]
  },
  {
   "cell_type": "markdown",
   "id": "3de44ad1",
   "metadata": {},
   "source": [
    "*The p-value is much smaller than our threshold (0.05), so we have evidence against the null hypothesis of equal population means. Therefore, there is a significant difference between the means of the average revenue per user from algorithm-recommended products for \"Treatment\" and \"Control\"  groups.*"
   ]
  },
  {
   "cell_type": "markdown",
   "id": "1670be1d",
   "metadata": {},
   "source": [
    "### 3. Results interpretation"
   ]
  },
  {
   "cell_type": "markdown",
   "id": "3e69e572",
   "metadata": {},
   "source": [
    "<code style=\"background:DarkSeaGreen;color:black\">The findings described above indicate that the changes made to the recommendation algorithm had a notable impact on user revenue metrics. For example, the ARPU for the \"Treatment\" and \"Control\" groups are 4427 and 2643, respectively. Additionally, the ARPUs from algorithm-recommended products for the \"Treatment\" and \"Control\" groups are 1979 and 800, respectively. We can confidently conclude that the experimental algorithm improved user engagement and revenue generation compared to the control group.</code>"
   ]
  },
  {
   "cell_type": "code",
   "execution_count": null,
   "id": "dcaa50c4",
   "metadata": {},
   "outputs": [],
   "source": []
  }
 ],
 "metadata": {
  "kernelspec": {
   "display_name": "Python 3 (ipykernel)",
   "language": "python",
   "name": "python3"
  },
  "language_info": {
   "codemirror_mode": {
    "name": "ipython",
    "version": 3
   },
   "file_extension": ".py",
   "mimetype": "text/x-python",
   "name": "python",
   "nbconvert_exporter": "python",
   "pygments_lexer": "ipython3",
   "version": "3.11.5"
  }
 },
 "nbformat": 4,
 "nbformat_minor": 5
}
